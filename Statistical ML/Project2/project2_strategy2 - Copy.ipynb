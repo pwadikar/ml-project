def calculate_distance(u,x):
#print(u)
#print(x)
x1 = u[0]-x[0]
y1 = u[1]-x[1]
d = (x1**2 + y1**2)**1/2
return d	

def initial_z(init_s,ds, k):
    centroids = [init_s]

    temp_centroid=[]
    temp_centroid.append(init_s.copy())
    a =[]
    already = []

    for _ in range(1,k):
        for i in range (len(ds)):
            if i in already:
                
                a.append(0);
            else:
                a.append(calculate_distance(ds[i],temp_centroid[0]))
            
        arr = numpy.array(a)
        result = numpy.where(arr == numpy.amax(arr))

        
        if result[0][0] in already:
            print('Value already present',result[0])
            result[0][0] = random.randint(0, 300)
        already.append(result[0][0])
        centroids.append(ds[result[0][0]])
        

        temp_centroid.clear()

        temp_centroid.append((np.sum(centroids,axis=0)/len(centroids)))
        #print('centroid initial', centroids)
        #print('centroid temp', temp_centroid)
        
        

        a.clear()
        #print('new temp',temp_centroid)
    

    return np.array(centroids)


def find_cl(X, n_clusters, centers):
centroids = centers
a =[]
labels = []
#for i in range(len(X)):
#    labels.append(0)
#print('label',len(labels))
#print(labels[0])
while True:
for i in range(len(X)):
for j in range(n_clusters):
a.append(calculate_distance(X[i],centroids[j]))

arr = numpy.array(a)
result = numpy.where(arr == numpy.amin(arr))

labels.append(result[0][0])
a.clear()

labels_new = np.array(labels)
#print(labels_new)
new_centroids = np.array([X[labels_new == i].mean(0)
for i in range(n_clusters)])

if np.all(centroids == new_centroids):
break
labels.clear()
centroids = new_centroids

return centroids, labels

def find_loss(X,n_clusters,labels,centroids):
loss = 0
for j in range(len(centroids)):
for i in range(len(X)):
if (labels[i] == j) :
loss = loss + (calculate_distance(X[i],centroids[j]))**2


return loss

new_centroid = initial_z(i_point1,data,4)
centers, labels = find_cl(data, 4,new_centroid)
print ('centres' , centers)
loss = find_loss(data,4,labels,centers)
print ('loss k=4', loss)


new_centroid = initial_z(i_point2,data,6)

#centers, labels = find_clusters(data, 6,new_centroid)
centers, labels = find_cl(data, 6,new_centroid)

print ('centres' , centers)
loss1 = find_loss(data,6,labels,centers)
print ('loss',loss1)


