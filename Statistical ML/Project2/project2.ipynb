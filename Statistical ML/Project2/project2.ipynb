def calculate_distance(u,x):
#print(u)
#print(x)
x1 = u[0]-x[0]
y1 = u[1]-x[1]
d = (x1**2 + y1**2)**1/2
return d	

def find_cl(X, n_clusters, centers):
centroids = centers
a =[]
labels = []
#for i in range(len(X)):
#    labels.append(0)
#print('label',len(labels))
#print(labels[0])
while True:
for i in range(len(X)):
for j in range(n_clusters):
a.append(calculate_distance(X[i],centroids[j]))

arr = numpy.array(a)
result = numpy.where(arr == numpy.amin(arr))

labels.append(result[0][0])
a.clear()

labels_new = np.array(labels)
#print(labels_new)
new_centroids = np.array([X[labels_new == i].mean(0)
for i in range(n_clusters)])

if np.all(centroids == new_centroids):
break
labels.clear()
centroids = new_centroids

return centroids, labels

def find_loss(X,n_clusters,labels,centroids):
loss = 0
for j in range(len(centroids)):
for i in range(len(X)):
if (labels[i] == j) :
loss = loss + (calculate_distance(X[i],centroids[j]))**2


return loss




print('check for k=3')
centers, labels = find_cl(data, 3,i_point1)
print(centers)
loss = find_loss(data,3,labels,i_point1)
print(loss)

print('check for k=5')
centers, labels = find_cl(data, 5,i_point2)
print(centers)
loss = find_loss(data,4,labels,i_point2)

print ('k=5 loss ',loss)